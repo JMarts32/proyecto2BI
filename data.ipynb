{
 "cells": [
  {
   "attachments": {},
   "cell_type": "markdown",
   "metadata": {},
   "source": [
    "# PROYECTO 2\n",
    "\n",
    "## Identificar necesidades analiticas\n",
    "De las reuniones con los estudiantes de medicina pudimos dialogar y entender las necesidades de análisis que tienen, las cuales se resumen en la siguiente pregunta: **¿Cual es la prevalencia de asma en las diferentes UPZ de la ciudad de Bogota de acuerdo con las caracteristicas de la vivienda?**\n",
    "\n",
    "Una vez entendido que nuestro cliente desea saber la relación de las condiciones de vida de las personas con Asma, procedemos a definir 4 requerimientos analiticos que nos permitan responder a la pregunta anterior:\n",
    "1. **Impacto de las caracteristicas de vivienda en la prevalencia de asma.** Para este requeriemiento se busca analizar principalmente el tema de humedad y grietas en las viviendas. Esto porque en la investigación y charla realizados pudimos identificar que estos son factores desencadenantes del asma.\n",
    "https://www.cdc.gov/asthma/es/triggers.html\n",
    "2. **Impacto del entorno en la prevalencia del asma.** Este requerimiento es fundamental para identificar la relación que hay entre el entorno y las condiciones de de vivienda de las personas. Por lo que las principales variables a analizar son la cercania a fabricas, basureros, bares, etc.\n",
    "3. **Impacto de las problematicas ambientales en la prevalencia del asma.** Este requerimiento nos permite identificar la relación que hay entre las problematicas ambientales y las condiciones de de vivienda de las personas. Por lo que las principales variables a analizar la percepcion de la calidad del aire, la presencia de insectos, presencia de malos olores, contaminación de cuerpos de agua, etc.\n",
    "4. **Impacto de la localización en la prevalencia del asma.** Este requerimiento nos va a permitir identificar cuales son las UPZ con mayor cantidad de casos de asma registrados, para poder identificar si hay alguna relación con las variables analizadas en los requerimientos anteriores.\n",
    "\n",
    "\n",
    "## Modelar el Data Marts\n",
    "Para poder responder a los requerimientos analiticos definidos anteriormente, se procede a modelar los Data Marts que nos permitan responder a dos de estos requerimientos que le presentaremos al cliente. Para esto se realiza un analisis de las variables que se encuentran en el dataset, y se seleccionan las que son relevantes para cada uno de los requerimientos."
   ]
  },
  {
   "cell_type": "code",
   "execution_count": null,
   "metadata": {},
   "outputs": [],
   "source": [
    "import os\n",
    "import pandas as pd\n",
    "import numpy as np\n",
    "\n",
    "\n"
   ]
  }
 ],
 "metadata": {
  "language_info": {
   "name": "python"
  },
  "orig_nbformat": 4
 },
 "nbformat": 4,
 "nbformat_minor": 2
}
