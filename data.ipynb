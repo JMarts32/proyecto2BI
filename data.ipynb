{
 "cells": [
  {
   "attachments": {},
   "cell_type": "markdown",
   "metadata": {},
   "source": [
    "# PROYECTO 2\n",
    "\n",
    "## Identificar necesidades análiticas\n",
    "De las reuniones con los estudiantes de medicina pudimos dialogar y entender las necesidades de análisis que tienen, las cuales se resumen en la siguiente pregunta: **¿Cual es la prevalencia de asma en las diferentes UPZ de la ciudad de Bogota de acuerdo con las caracteristicas de la vivienda?**\n",
    "\n",
    "Una vez entendido que nuestro cliente desea saber la relación de las condiciones de vida de las personas con Asma, procedemos a definir 4 requerimientos analiticos que nos puedan llegar a una aproximación de la respuesta a la pregunta anterior:\n",
    "1. **Impacto de las caracteristicas de vivienda en la prevalencia de asma.** Para este requeriemiento se busca analizar principalmente el tema de humedad y grietas en las viviendas. Esto porque en la investigación y charla realizados pudimos identificar que estos son factores desencadenantes del asma.\n",
    "https://www.cdc.gov/asthma/es/triggers.html\n",
    "2. **Impacto del entorno en la prevalencia del asma.** Este requerimiento es fundamental para identificar la relación que hay entre el entorno y las condiciones de de vivienda de las personas. Por lo que las principales variables a analizar son la cercania a fabricas, basureros, bares, etc.\n",
    "3. **Impacto de las problematicas ambientales en la prevalencia del asma.** Este requerimiento nos permite identificar la relación que hay entre las problematicas ambientales y las condiciones de de vivienda de las personas. Por lo que las principales variables a analizar la percepcion de la calidad del aire, la presencia de insectos, presencia de malos olores, contaminación de cuerpos de agua, etc.\n",
    "4. **Impacto de la localización en la prevalencia del asma.** Este requerimiento nos va a permitir identificar cuales son las UPZ con mayor cantidad de casos de asma registrados, para poder identificar si hay alguna relación con las variables analizadas en los requerimientos anteriores.\n",
    "\n",
    "\n",
    "## Modelar el Data Marts\n",
    "Para poder responder a los requerimientos analiticos definidos anteriormente, se procede a modelar los Data Marts que nos permitan responder a dos de estos requerimientos que le presentaremos al cliente. Para esto se realiza un analisis de las variables que se encuentran en el dataset, y se seleccionan las que son relevantes para cada uno de los requerimientos."
   ]
  },
  {
   "cell_type": "code",
   "execution_count": 1,
   "metadata": {},
   "outputs": [
    {
     "name": "stderr",
     "output_type": "stream",
     "text": [
      "C:\\Users\\jm200\\AppData\\Local\\Temp\\ipykernel_22880\\863658958.py:3: DtypeWarning: Columns (145,295,297,380,381,383,469,495,496,499,500,501,508,509,510,511) have mixed types. Specify dtype option on import or set low_memory=False.\n",
      "  df_asma_2017 = pd.read_csv('./data/Asma_2017.csv')\n",
      "C:\\Users\\jm200\\AppData\\Local\\Temp\\ipykernel_22880\\863658958.py:4: DtypeWarning: Columns (12,145,146,147,280,285,295,296,297,304,379,380,381,382,383,469,470,495,496,498,499,500,501,507,508,509,510,511,512,513) have mixed types. Specify dtype option on import or set low_memory=False.\n",
      "  df_noAsma_2017 = pd.read_csv('./data/NoAsma_2017.csv')\n",
      "C:\\Users\\jm200\\AppData\\Local\\Temp\\ipykernel_22880\\863658958.py:5: DtypeWarning: Columns (334,410,412,540,541,543,545,549,552,553,554,555,556,557) have mixed types. Specify dtype option on import or set low_memory=False.\n",
      "  df_asma_2021 = pd.read_csv('./data/Asma_2021.csv', encoding='utf-8', encoding_errors='ignore')\n",
      "C:\\Users\\jm200\\AppData\\Local\\Temp\\ipykernel_22880\\863658958.py:6: DtypeWarning: Columns (8,10,334,408,409,410,412,538,540,541,543,545,549,552,553,554,555,556,557) have mixed types. Specify dtype option on import or set low_memory=False.\n",
      "  df_noAsma_2021 = pd.read_csv('./data/NoAsma_2021.csv', encoding='utf-8', encoding_errors='ignore')\n"
     ]
    }
   ],
   "source": [
    "import pandas as pd\n",
    "\n",
    "df_asma_2017 = pd.read_csv('./data/Asma_2017.csv')\n",
    "df_noAsma_2017 = pd.read_csv('./data/NoAsma_2017.csv')\n",
    "df_asma_2021 = pd.read_csv('./data/Asma_2021.csv', encoding='utf-8', encoding_errors='ignore')\n",
    "df_noAsma_2021 = pd.read_csv('./data/NoAsma_2021.csv', encoding='utf-8', encoding_errors='ignore')"
   ]
  },
  {
   "attachments": {},
   "cell_type": "markdown",
   "metadata": {},
   "source": [
    "De los datos cargados, gracias al analisis realizado y la investigacion dentro del diccionario proporcionado, se identificaron las siguientes variables que son relevantes para los requerimientos analiticos a realizar:\n",
    "1. **Impacto de las caracteristicas de vivienda en la prevalencia de asma.**: Para este requerimiento utilizaremos las columnas: \"NVCBP8B\", \"NVCBP8D\",\"NVCBP8C\",\"NVCBP8E\", \"NVCBP8F\", \"NVCBP8G\", \"NVCBP12\", \"NVCBP13\", \"NVCBP13\"\n",
    "2. **Impacto del entorno en la prevalencia del asma.** Para este requerimiento utilizaremos las columnas: \"NVCBP14A\", \"NVCBP14B\", \"NVCBP14C\", \"NVCBP14D\", \"NVCBP14E\", \"NVCBP14F\", \"NVCBP14G\", \"NVCBP14H\", \"NVCBP14I\", \"NVCBP14J\", \"NVCBP14K\"\n",
    "\n",
    "\n",
    "En este punto queremos evaluar poder evaluar los patrones de condiciones de vivienda y entorno que tienen las personas con Asma y contrastarlas con las personas que no tienen Asma."
   ]
  },
  {
   "cell_type": "code",
   "execution_count": 7,
   "metadata": {},
   "outputs": [
    {
     "data": {
      "text/plain": [
       "(13357, 9)"
      ]
     },
     "execution_count": 7,
     "metadata": {},
     "output_type": "execute_result"
    }
   ],
   "source": [
    "keep_Req1 = [\"NVCBP8B\", \"NVCBP8D\",\"NVCBP8C\",\"NVCBP8E\", \"NVCBP8F\", \"NVCBP8G\", \"NVCBP12\", \"NVCBP13\", \"NVCBP13\"]\n",
    "keep_Req2 = [\"NVCBP14A\", \"NVCBP14B\", \"NVCBP14C\", \"NVCBP14D\", \"NVCBP14E\", \"NVCBP14F\", \"NVCBP14G\", \"NVCBP14H\", \"NVCBP14I\", \"NVCBP14J\", \"NVCBP14K\"]\n",
    "df_Asma_Req1 = pd.concat([df_asma_2017[keep_Req1], df_asma_2021[keep_Req1]] ,axis=0)\n",
    "df_Asma_Req2 = pd.concat([df_asma_2017[keep_Req2], df_asma_2021[keep_Req2]] ,axis=0)\n",
    "df_Asma_Req1.shape"
   ]
  },
  {
   "cell_type": "code",
   "execution_count": null,
   "metadata": {},
   "outputs": [],
   "source": []
  }
 ],
 "metadata": {
  "kernelspec": {
   "display_name": "Python 3",
   "language": "python",
   "name": "python3"
  },
  "language_info": {
   "codemirror_mode": {
    "name": "ipython",
    "version": 3
   },
   "file_extension": ".py",
   "mimetype": "text/x-python",
   "name": "python",
   "nbconvert_exporter": "python",
   "pygments_lexer": "ipython3",
   "version": "3.9.2"
  },
  "orig_nbformat": 4
 },
 "nbformat": 4,
 "nbformat_minor": 2
}
